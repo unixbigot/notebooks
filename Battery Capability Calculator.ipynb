{
 "cells": [
  {
   "cell_type": "markdown",
   "id": "charged-telephone",
   "metadata": {},
   "source": [
    "# Battery Lifetime Calculator"
   ]
  },
  {
   "cell_type": "markdown",
   "id": "magnetic-shore",
   "metadata": {},
   "source": [
    "## How to use this document\n",
    "\n",
    "Click the run button on each block to step through the calculations.   \n",
    "\n",
    "Some of the blocks have values that you can change before you click run.\n",
    "\n",
    "## What does this document do\n",
    "This calculation turns battery capacity around, and asks, you have a device that does some job, how many jobs can you do?.   \n",
    "\n",
    "Each job uses high power, but the device also uses a smaller amount of power all the time (its *standby consumption*).\n",
    "\n",
    "How many jobs can you do in a day, before you need to recharge?\n",
    "\n",
    "Battery capacity is measured in Ampere-Hours, that is Amps multiplied by Hours.   Its a literal trade-off---draw a lot of amps, you only get a few hours; draw a fraction of an amp, and you get lots of hours.  A 10Ah battery can theoretically deliver 10 Amps for 1 hour, one Amp for 10 hours, or 500mA for 20 hours.   In reality, the relationship might not be so *linear*.\n",
    "\n",
    "The rated capacity from the manufacturer is usually for a 20 hour discharge, so if you are going to run the battery for a shorter or longer time, you may experience a different effective capacity.    Also, resellers lie outrageously about capacity.\n",
    "\n",
    "If your load is constant (eg you draw 200mA all the time, then a theoretical lifetime is simply `capacity / current`, eg `10Ah / 200mA => 50 hours`.\n",
    "\n",
    "Since we are considering a 24 hour discharge, we are close to the manufacturer figure, but practically \n",
    "we are using different rates, our gadget will be in standby (sleep mode) when possible and only consume our **peak draw** when doing a job.  The rest of the time we consume a far smaller **standby draw**\n",
    "\n",
    "We'll use Python and the *Pint* unit library to help us model this scenario."
   ]
  },
  {
   "cell_type": "code",
   "execution_count": 60,
   "id": "collected-example",
   "metadata": {},
   "outputs": [],
   "source": [
    "# Load some library modules.   You can ignore this block, just click run.\n",
    "import pint\n",
    "units = pint.UnitRegistry()\n",
    "from math import floor"
   ]
  },
  {
   "cell_type": "markdown",
   "id": "attempted-angel",
   "metadata": {},
   "source": [
    "## Enter your battery capacity\n",
    "\n",
    "The rated capacity presumes you use all the power in the battery.   Running many kinds of battery dead flat can damage them, so lets choose a safety factor.   We'll say we only run the battery 80% flat.\n",
    "\n"
   ]
  },
  {
   "cell_type": "code",
   "execution_count": 61,
   "id": "cheap-burning",
   "metadata": {},
   "outputs": [
    {
     "name": "stdout",
     "output_type": "stream",
     "text": [
      "If we are nice to our battery we can use up to 96.0 ampere_hour of its rated 120 ampere_hour capacity\n"
     ]
    }
   ],
   "source": [
    "# Edit the values in this block below and then click \"Run\".\n",
    "\n",
    "rated_capacity = 120 * units.Ah\n",
    "\n",
    "depth_of_discharge = 0.8\n",
    "\n",
    "# Don't change anything below here in this block\n",
    "capacity = rated_capacity * depth_of_discharge\n",
    "print(\"If we are nice to our battery we can use up to {} of its rated {} capacity\".format(capacity,rated_capacity))"
   ]
  },
  {
   "cell_type": "markdown",
   "id": "three-aaron",
   "metadata": {},
   "source": [
    "## Describe your power needs\n",
    "\n",
    "### Enter your job power consumption   \n",
    "\n",
    "How much power do you need when doing a job?\n"
   ]
  },
  {
   "cell_type": "code",
   "execution_count": 62,
   "id": "cubic-reconstruction",
   "metadata": {},
   "outputs": [
    {
     "name": "stdout",
     "output_type": "stream",
     "text": [
      "At 1500 milliampere for 15 minute we use 0.375 ampere_hour per job\n"
     ]
    }
   ],
   "source": [
    "# Edit the values in this block below and then click \"Run\".\n",
    "\n",
    "job_draw = 1500 * units.mA\n",
    "\n",
    "job_duration = 15 * units.minute\n",
    "\n",
    "# Don't change anything below here in this block\n",
    "job_energy_use = (job_draw * job_duration).to(units.Ah);\n",
    "print(\"At {} for {} we use {} per job\".format(job_draw, job_duration, job_energy_use))"
   ]
  },
  {
   "cell_type": "markdown",
   "id": "stupid-majority",
   "metadata": {},
   "source": [
    "### Enter your standby consumption   \n",
    "\n",
    "How much power do you consume when in standby mode?\n",
    "\n",
    "Let's take a shortcut and presume we use the standby energy even during jobs.  If we didn't take this shortcut we would need to solve a set of simultaneous equations.\n"
   ]
  },
  {
   "cell_type": "code",
   "execution_count": 67,
   "id": "sorted-syria",
   "metadata": {},
   "outputs": [
    {
     "name": "stdout",
     "output_type": "stream",
     "text": [
      "At 200 milliampere standby, our gadget is going to consume 4.8 ampere_hour each day even when idle.\n",
      "That's 4% of our effective capacity just for standby.\n"
     ]
    }
   ],
   "source": [
    "\n",
    "standby_draw = 200 * units.mA\n",
    "\n",
    "# Don't change anything below here in this block\n",
    "standby_energy_use = (standby_draw * 24 * units.hour).to(units.Ah)\n",
    "print(\"At {0} standby, our gadget is going to consume {1:.5} each day even when idle.\".format(standby_draw,standby_energy_use))\n",
    "print(\"That's {}% of our effective capacity just for standby.\".format(floor(100*standby_energy_use/capacity)))"
   ]
  },
  {
   "cell_type": "markdown",
   "id": "dress-heaven",
   "metadata": {},
   "source": [
    "## Caculate the theoretical job capacity\n",
    "\n",
    "Now we know how much energy we use per day just when idle, we can divide the remainder by 24h to work out how many jobs we could do per day in the best case.    \n",
    "\n",
    "But we don't work 24 hours.   We have a \"working\" day, so lets work ou\n",
    "\n",
    "In reality, there is efficiency, non-linearity and self-discharge to consider, so this figure may not be precise."
   ]
  },
  {
   "cell_type": "code",
   "execution_count": 80,
   "id": "contrary-guitar",
   "metadata": {},
   "outputs": [
    {
     "name": "stdout",
     "output_type": "stream",
     "text": [
      "In theory, we can do up to 243 x 15 minute jobs, per day.\n",
      "That means that in a 10 hour working day, we can serve 6 users at a time\n"
     ]
    }
   ],
   "source": [
    "# Edit the values in this block below and then click \"Run\".\n",
    "\n",
    "working_hours_per_day = 10 * units.hour\n",
    "\n",
    "# You don't need to edit this block, just click \"Run\" to see the calculated value\n",
    "job_energy_budget = capacity - standby_energy_use\n",
    "job_capacity = floor(job_energy_budget / job_energy_use)\n",
    "print(\"In theory, we can do up to {} x {} jobs, per day.\".format(job_capacity,job_duration))\n",
    "user_capacity = floor(job_capacity * job_duration / working_hours_per_day)\n",
    "print(\"That means that in a {} working day, we can serve {} users at a time\".format(working_hours_per_day,user_capacity))"
   ]
  },
  {
   "cell_type": "markdown",
   "id": "fluid-piano",
   "metadata": {},
   "source": [
    "**Note**: In theory, theory and practice are the same thing.  In practice, they are not."
   ]
  },
  {
   "cell_type": "code",
   "execution_count": null,
   "id": "comprehensive-reverse",
   "metadata": {},
   "outputs": [],
   "source": []
  }
 ],
 "metadata": {
  "kernelspec": {
   "display_name": "Python 3",
   "language": "python",
   "name": "python3"
  },
  "language_info": {
   "codemirror_mode": {
    "name": "ipython",
    "version": 3
   },
   "file_extension": ".py",
   "mimetype": "text/x-python",
   "name": "python",
   "nbconvert_exporter": "python",
   "pygments_lexer": "ipython3",
   "version": "3.9.6"
  }
 },
 "nbformat": 4,
 "nbformat_minor": 5
}
