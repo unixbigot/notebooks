{
 "cells": [
  {
   "cell_type": "markdown",
   "id": "charged-telephone",
   "metadata": {},
   "source": [
    "# Battery Lifetime Calculator"
   ]
  },
  {
   "cell_type": "markdown",
   "id": "magnetic-shore",
   "metadata": {},
   "source": [
    "## How to use this document\n",
    "\n",
    "If you are viewing this on github.com, this document is read only.  Download it and open it\n",
    "using Jupyter Notebook if you want to edit it.\n",
    "\n",
    "When viewing in Jupyter, click the run button on each block to step through the calculations.   \n",
    "\n",
    "Some of the blocks have values that you can change before you click run.\n",
    "\n",
    "## What does this document do\n",
    "This calculation turns battery capacity around, and asks, you have a device that does some job, how many jobs can you do?.   \n",
    "\n",
    "Each job uses high power, but the device also uses a smaller amount of power all the time (its *standby consumption*).\n",
    "\n",
    "How many jobs can you do in a day, before you need to recharge?\n",
    "\n",
    "Battery capacity is measured in Ampere-Hours, that is Amps multiplied by Hours.   Its a literal trade-off---draw a lot of amps, you only get a few hours; draw a fraction of an amp, and you get lots of hours.  A 10Ah battery can theoretically deliver 10 Amps for 1 hour, one Amp for 10 hours, or 500mA for 20 hours.   In reality, the relationship might not be so *linear*.\n",
    "\n",
    "The rated capacity from the manufacturer is usually for a 20 hour discharge, so if you are going to run the battery for a shorter or longer time, you may experience a different effective capacity.    Also, resellers lie outrageously about capacity.\n",
    "\n",
    "If your load is constant (eg you draw 200mA all the time, then a theoretical lifetime is simply `capacity / current`, eg `10Ah / 200mA => 50 hours`.\n",
    "\n",
    "Since we are considering a 24 hour discharge, we are close to the manufacturer figure, but practically \n",
    "we are using different rates, our gadget will be in standby (sleep mode) when possible and only consume our **peak draw** when doing a job.  The rest of the time we consume a far smaller **standby draw**\n",
    "\n",
    "We'll use Python and the *Pint* unit library to help us model this scenario."
   ]
  },
  {
   "cell_type": "code",
   "execution_count": 60,
   "id": "collected-example",
   "metadata": {},
   "outputs": [],
   "source": [
    "# Load some library modules.   You can ignore this block, just click run.\n",
    "import pint\n",
    "units = pint.UnitRegistry()\n",
    "from math import floor"
   ]
  },
  {
   "cell_type": "markdown",
   "id": "attempted-angel",
   "metadata": {},
   "source": [
    "## Enter your battery capacity\n",
    "\n",
    "The rated capacity presumes you use all the power in the battery.   Running many kinds of battery dead flat can damage them, so lets choose a safety factor.   We'll say we only run the battery 80% flat.\n",
    "\n"
   ]
  },
  {
   "cell_type": "code",
   "execution_count": 101,
   "id": "cheap-burning",
   "metadata": {},
   "outputs": [
    {
     "name": "stdout",
     "output_type": "stream",
     "text": [
      "If we are nice to our 11.1 volt battery we can use up to 60.0 ampere_hour of its rated 120 ampere_hour capacity.\n",
      "That means we have a daily energy budget of 666.0 watt_hour.\n"
     ]
    }
   ],
   "source": [
    "# Edit the values in this block below and then click \"Run\".\n",
    "\n",
    "number_of_cells = 3\n",
    "\n",
    "rated_capacity = 120 * units.Ah\n",
    "\n",
    "depth_of_discharge = 0.5\n",
    "\n",
    "# Don't change anything below here in this block\n",
    "nominal_voltage = 3.7 * number_of_cells * units.volt\n",
    "capacity = rated_capacity * depth_of_discharge\n",
    "energy_budget = (capacity * nominal_voltage).to(\"watt_hour\");\n",
    "print(\"If we are nice to our {:.3} battery we can use up to {} of its rated {} capacity.\".format(nominal_voltage, capacity,rated_capacity))\n",
    "print(\"That means we have a daily energy budget of {:.4}.\".format(energy_budget))"
   ]
  },
  {
   "cell_type": "markdown",
   "id": "three-aaron",
   "metadata": {},
   "source": [
    "## Describe your power needs\n",
    "\n",
    "### Enter your job power consumption   \n",
    "\n",
    "How much power do you need when doing a job?\n"
   ]
  },
  {
   "cell_type": "code",
   "execution_count": 92,
   "id": "cubic-reconstruction",
   "metadata": {},
   "outputs": [
    {
     "name": "stdout",
     "output_type": "stream",
     "text": [
      "At 1500 milliampere for 15 minute we use 5.0 watt_hour per job\n"
     ]
    }
   ],
   "source": [
    "# Edit the values in this block below and then click \"Run\".\n",
    "\n",
    "job_power = 20 * units.watt\n",
    "\n",
    "job_duration = 15 * units.minute\n",
    "\n",
    "# Don't change anything below here in this block\n",
    "job_energy_use = (job_power * job_duration).to(units.Wh);\n",
    "print(\"At {} for {} we use {} per job\".format(job_power, job_duration, job_energy_use))"
   ]
  },
  {
   "cell_type": "markdown",
   "id": "stupid-majority",
   "metadata": {},
   "source": [
    "### Enter your standby consumption   \n",
    "\n",
    "How much power do you consume when in standby mode?\n",
    "\n",
    "Let's take a shortcut and presume we use the standby energy even during jobs.  If we didn't take this shortcut we would need to solve a set of simultaneous equations.\n"
   ]
  },
  {
   "cell_type": "code",
   "execution_count": 103,
   "id": "sorted-syria",
   "metadata": {},
   "outputs": [
    {
     "name": "stdout",
     "output_type": "stream",
     "text": [
      "At 1 watt standby, our gadget is going to consume 24.0 watt_hour each day even when idle.\n",
      "That's 3% of our effective capacity just for standby.\n"
     ]
    }
   ],
   "source": [
    "\n",
    "standby_power = 1 * units.watt\n",
    "\n",
    "# Don't change anything below here in this block\n",
    "standby_energy_use = (standby_power * 24 * units.hour).to(units.Wh)\n",
    "print(\"At {0} standby, our gadget is going to consume {1:.5} each day even when idle.\"\n",
    "      .format(standby_power,standby_energy_use))\n",
    "print(\"That's {}% of our energy budget just for standby.\"\n",
    "      .format(floor(100*standby_energy_use/energy_budget)))"
   ]
  },
  {
   "cell_type": "markdown",
   "id": "dress-heaven",
   "metadata": {},
   "source": [
    "## Caculate the theoretical job capacity\n",
    "\n",
    "Now we know how much energy we use per day just when idle, we can divide the remainder by 24h to work out how many jobs we could do per day in the best case.    \n",
    "\n",
    "But we don't work 24 hours.   We have a \"working\" day, so lets work out what that practically means for service capacity.\n",
    "\n"
   ]
  },
  {
   "cell_type": "code",
   "execution_count": 105,
   "id": "contrary-guitar",
   "metadata": {},
   "outputs": [
    {
     "name": "stdout",
     "output_type": "stream",
     "text": [
      "In theory, we can do up to 128 x 15 minute jobs, per day.\n",
      "That means that in a 10 hour working day, we could serve 3 users at a time\n"
     ]
    }
   ],
   "source": [
    "# Edit the values in this block below and then click \"Run\".\n",
    "\n",
    "working_hours_per_day = 10 * units.hour\n",
    "\n",
    "# You don't need to edit this block, just click \"Run\" to see the calculated value\n",
    "job_energy_budget = energy_budget - standby_energy_use\n",
    "job_capacity = floor(job_energy_budget / job_energy_use)\n",
    "print(\"In theory, we can do up to {} x {} jobs, per day.\".format(job_capacity,job_duration))\n",
    "user_capacity = floor(job_capacity * job_duration / working_hours_per_day)\n",
    "print(\"That means that in a {} working day, with no breaks, we could serve {} users at a time\".format(working_hours_per_day,user_capacity))"
   ]
  },
  {
   "cell_type": "markdown",
   "id": "handy-gazette",
   "metadata": {},
   "source": [
    "# Calculate a realistic job capacity\n",
    "\n",
    "Nobody works 100% of the time.   Let's presume we get half a job to rest between each job."
   ]
  },
  {
   "cell_type": "code",
   "execution_count": 109,
   "id": "historic-sellers",
   "metadata": {},
   "outputs": [
    {
     "name": "stdout",
     "output_type": "stream",
     "text": [
      "With a bit of downtime between jobs, doing only 7.5 hour a day, we could serve 4 users at a time\n"
     ]
    }
   ],
   "source": [
    "practical_work_hours = working_hours_per_day * 0.75\n",
    "practical_user_capacity = floor(job_capacity * job_duration / practical_work_hours)\n",
    "print(\"With a bit of downtime between jobs, doing only {} a day, we could serve {} users at a time\"\n",
    ".format(practical_work_hours,practical_user_capacity))"
   ]
  },
  {
   "cell_type": "markdown",
   "id": "fluid-piano",
   "metadata": {},
   "source": [
    "**Note**: In theory, theory and practice are the same thing.  In practice, they are not.\n",
    "\n",
    "In reality, there is efficiency, non-linearity and self-discharge to consider, so this figure may not be precise."
   ]
  },
  {
   "cell_type": "code",
   "execution_count": null,
   "id": "comprehensive-reverse",
   "metadata": {},
   "outputs": [],
   "source": []
  }
 ],
 "metadata": {
  "kernelspec": {
   "display_name": "Python 3",
   "language": "python",
   "name": "python3"
  },
  "language_info": {
   "codemirror_mode": {
    "name": "ipython",
    "version": 3
   },
   "file_extension": ".py",
   "mimetype": "text/x-python",
   "name": "python",
   "nbconvert_exporter": "python",
   "pygments_lexer": "ipython3",
   "version": "3.9.6"
  }
 },
 "nbformat": 4,
 "nbformat_minor": 5
}
