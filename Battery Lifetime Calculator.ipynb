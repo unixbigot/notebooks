{
 "cells": [
  {
   "cell_type": "markdown",
   "id": "finished-mauritius",
   "metadata": {},
   "source": [
    "# Battery Lifetime Calculator"
   ]
  },
  {
   "cell_type": "markdown",
   "id": "insured-shelter",
   "metadata": {},
   "source": [
    "You have a battery, and you want to draw some power from it.   How long will it last?\n",
    "\n",
    "Battery capacity is measured in Ampere-Hours, that is Amps multiplied Hours.   Its a literal trade-off---draw a lot of amps, you only get a few hours; draw a fraction of an amp, and you get lots of hours.  A 10Ah battery can theoretically deliver 10 Amps for 1 hour, one Amp for 10 hours, or 500mA for 20 hours.   In reality, the relationship might not be so *linear*.\n",
    "\n",
    "The rated capacity from the manufacturer is usually for a 20 hour discharge, so if you are going to run the battery for a shorter or longer time, you may experience a different effective capacity.    Also, resellers lie outrageously about capacity.\n",
    "\n",
    "If your load is constant (eg you draw 200mA all the time, then a theoretical lifetime is simply `capacity / current`, eg `10Ah / 200mA => 50 hours`.\n",
    "\n",
    "But what if you need more life?  Then we need to go to low-power (sleep mode) when possible and only consume our **peak draw** for brief intervals.  The rest of the time we consume a far smaller **idle draw**\n",
    "\n",
    "We'll use Python and the *Pint* unit library to help us model this scenario."
   ]
  },
  {
   "cell_type": "code",
   "execution_count": 71,
   "id": "about-series",
   "metadata": {},
   "outputs": [],
   "source": [
    "# Bring in the unit conversion library\n",
    "import pint\n",
    "units = pint.UnitRegistry()"
   ]
  },
  {
   "cell_type": "markdown",
   "id": "central-demographic",
   "metadata": {},
   "source": [
    "## Enter your battery capacity\n",
    "\n",
    "The rated capacity presumes you use all the power in the battery. Running many kinds of battery dead flat can damage them, so lets choose a safety factor. We'll say we only run the battery, say, 80% flat."
   ]
  },
  {
   "cell_type": "code",
   "execution_count": 72,
   "id": "successful-helena",
   "metadata": {},
   "outputs": [
    {
     "name": "stdout",
     "output_type": "stream",
     "text": [
      "If we are nice to our battery we can use up to 96.0 ampere_hour of its rated 120 ampere_hour capacity\n"
     ]
    }
   ],
   "source": [
    "rated_capacity = 120 * units.Ah\n",
    "\n",
    "depth_of_discharge = 0.8\n",
    "\n",
    "# Don't change anything below here in this block\n",
    "capacity = rated_capacity * depth_of_discharge\n",
    "print(\"If we are nice to our battery we can use up to {} of its rated {} capacity\".format(capacity,rated_capacity))"
   ]
  },
  {
   "cell_type": "markdown",
   "id": "turkish-renewal",
   "metadata": {},
   "source": [
    "## Enter your power consumption\n",
    "\n",
    "We're going to presume that you use full power at peak times, but in between we can go to a lower power idle mode.\n",
    "\n",
    "The worst case is you draw this all the time, hopefully we will do better."
   ]
  },
  {
   "cell_type": "code",
   "execution_count": 73,
   "id": "hairy-hometown",
   "metadata": {},
   "outputs": [
    {
     "name": "stdout",
     "output_type": "stream",
     "text": [
      "We'll use 80 microampere when idle but at peak times we use up to 500 milliampere\n"
     ]
    }
   ],
   "source": [
    "peak_draw = 500 * units.mA\n",
    "\n",
    "idle_draw = 80 * units.uA\n",
    "\n",
    "# Don't change anything below here in this block\n",
    "print(\"We'll use {0} when idle but at peak times we use up to {1}\".format(idle_draw,peak_draw))"
   ]
  },
  {
   "cell_type": "markdown",
   "id": "special-mission",
   "metadata": {},
   "source": [
    "### Enter your peak use characteristics"
   ]
  },
  {
   "cell_type": "code",
   "execution_count": 85,
   "id": "searching-exclusion",
   "metadata": {},
   "outputs": [
    {
     "name": "stdout",
     "output_type": "stream",
     "text": [
      "With 64x 10 second peaks each day, we spend 10.7 minute each day using our peak power of 500 milliampere\n"
     ]
    }
   ],
   "source": [
    "peak_duration = 10 * units.second\n",
    "peaks_per_day = 64\n",
    "\n",
    "# Don't change anything below here in this block\n",
    "peak_time_per_day = (peak_duration * peaks_per_day).to(units.minute)\n",
    "print(\"With {}x {} peaks each day, we spend {:.3} each day using our peak power of {}\".format(\n",
    "    peaks_per_day, peak_duration, peak_time_per_day, peak_draw))"
   ]
  },
  {
   "cell_type": "markdown",
   "id": "following-memphis",
   "metadata": {},
   "source": [
    "## Calculate the worst case\n",
    "\n",
    "Let's presume that you draw your `peak_draw` all the time, then the theoretical runtime is simply capacity divided by peak:"
   ]
  },
  {
   "cell_type": "code",
   "execution_count": 75,
   "id": "valuable-shower",
   "metadata": {},
   "outputs": [
    {
     "name": "stdout",
     "output_type": "stream",
     "text": [
      "If we use our peak power of 500 milliampere all the time, we would only last for 192.0 hour\n"
     ]
    }
   ],
   "source": [
    "# You don't need to edit anything in this block\n",
    "worst_case_lifetime = (capacity / peak_draw).to(units.hour)\n",
    "print(\"If we use our peak power of {} all the time, we would only last for {}\".format(\n",
    "    peak_draw, worst_case_lifetime))"
   ]
  },
  {
   "cell_type": "markdown",
   "id": "accepting-testing",
   "metadata": {},
   "source": [
    "## Calculate the average daily energy use\n",
    "\n",
    "Our average daily consumption will be the peak consumption multipled by the fraction of time we are in peak, plus the idle consumption multiplied by the remaining time"
   ]
  },
  {
   "cell_type": "code",
   "execution_count": 76,
   "id": "immune-exhibit",
   "metadata": {},
   "outputs": [
    {
     "name": "stdout",
     "output_type": "stream",
     "text": [
      "With 30 peaks per day, our average daily energy use is 0.0436 ampere_hour / day\n"
     ]
    }
   ],
   "source": [
    "# You don't need to edit anything in this block\n",
    "idle_time_per_day = ((24 * units.hour) - peak_time_per_day).to(units.hour)\n",
    "peak_consumption_per_day = peak_draw * peak_time_per_day\n",
    "idle_consumption_per_day = idle_draw * idle_time_per_day\n",
    "average_daily_energy = (peak_consumption_per_day + idle_consumption_per_day).to(units.Ah) / units.day\n",
    "print(\"With {} peaks per day, our average daily energy use is {:.3}\".format(peaks_per_day,average_daily_energy))"
   ]
  },
  {
   "cell_type": "markdown",
   "id": "extra-remains",
   "metadata": {},
   "source": [
    "## Caculate the theoretical best case\n",
    "\n",
    "Now we know how much energy we use per day, we can use the (not really) linear relationship of amps * hours to work out how long we would run at that average draw.\n",
    "\n",
    "In reality, there is efficiency, non-linearity and self-discharge to consider, so this figure may not be precise.\n",
    "\n"
   ]
  },
  {
   "cell_type": "code",
   "execution_count": 84,
   "id": "activated-institute",
   "metadata": {},
   "outputs": [
    {
     "name": "stdout",
     "output_type": "stream",
     "text": [
      "Best case lifetime is 2202.8 day between charges (that's about 6.0 year)\n"
     ]
    }
   ],
   "source": [
    "# You don't need to edit anything in this block\n",
    "best_case_lifetime = (capacity / average_daily_energy) # .to(units.day)\n",
    "print(\"Best case lifetime is {:.5} between charges (that's about {:.2})\".format(best_case_lifetime,best_case_lifetime.to(units.year)))"
   ]
  },
  {
   "cell_type": "code",
   "execution_count": null,
   "id": "recorded-decision",
   "metadata": {},
   "outputs": [],
   "source": []
  }
 ],
 "metadata": {
  "kernelspec": {
   "display_name": "Python 3",
   "language": "python",
   "name": "python3"
  },
  "language_info": {
   "codemirror_mode": {
    "name": "ipython",
    "version": 3
   },
   "file_extension": ".py",
   "mimetype": "text/x-python",
   "name": "python",
   "nbconvert_exporter": "python",
   "pygments_lexer": "ipython3",
   "version": "3.9.6"
  }
 },
 "nbformat": 4,
 "nbformat_minor": 5
}
