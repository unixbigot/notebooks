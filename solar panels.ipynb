{
 "cells": [
  {
   "cell_type": "markdown",
   "id": "suited-sarah",
   "metadata": {},
   "source": [
    "# Solar Panel Size\n",
    "\n",
    "Insolation at latitude\n",
    "\n",
    "Efficiency of panel\n",
    "\n",
    "Desired no-sun run time\n",
    "\n",
    "Load\n",
    "\n"
   ]
  }
 ],
 "metadata": {
  "kernelspec": {
   "display_name": "Python 3",
   "language": "python",
   "name": "python3"
  },
  "language_info": {
   "codemirror_mode": {
    "name": "ipython",
    "version": 3
   },
   "file_extension": ".py",
   "mimetype": "text/x-python",
   "name": "python",
   "nbconvert_exporter": "python",
   "pygments_lexer": "ipython3",
   "version": "3.9.6"
  }
 },
 "nbformat": 4,
 "nbformat_minor": 5
}
